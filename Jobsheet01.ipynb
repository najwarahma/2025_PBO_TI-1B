{
  "nbformat": 4,
  "nbformat_minor": 0,
  "metadata": {
    "colab": {
      "provenance": [],
      "authorship_tag": "ABX9TyMwL8OHvMRPR0Tuv9fxN5KW",
      "include_colab_link": true
    },
    "kernelspec": {
      "name": "python3",
      "display_name": "Python 3"
    },
    "language_info": {
      "name": "python"
    }
  },
  "cells": [
    {
      "cell_type": "markdown",
      "metadata": {
        "id": "view-in-github",
        "colab_type": "text"
      },
      "source": [
        "<a href=\"https://colab.research.google.com/github/najwarahma/2025_PBO_TI-1B/blob/main/Jobsheet01.ipynb\" target=\"_parent\"><img src=\"https://colab.research.google.com/assets/colab-badge.svg\" alt=\"Open In Colab\"/></a>"
      ]
    },
    {
      "cell_type": "markdown",
      "source": [
        "#Jobsheet 01:Dasar Bahasa Pemrograman Python"
      ],
      "metadata": {
        "id": "jmKFWRTRqI8e"
      }
    },
    {
      "cell_type": "markdown",
      "source": [
        "## Praktikum 01. Tipe data dasar"
      ],
      "metadata": {
        "id": "BR523fwusBZc"
      }
    },
    {
      "cell_type": "markdown",
      "source": [
        "Pada praktikum ini, mahasiswa akan mempelajari tipe-tipe data dasar yang digunakan dalam\n",
        "pemrograman Python, mulai dari integer, float, dan complex untuk nilai numerik, hingga\n",
        "boolean, string, list, tuple, dictionary, serta set yang memiliki karakteristik serta fungsi\n",
        "tersendiri. Mahasiswa juga akan mempraktikkan cara melakukan konversi tipe data (misalnya\n",
        "dari string ke integer), sehingga dapat lebih memahami bagaimana Python secara dinamis\n",
        "menangani berbagai format data. Pemahaman terhadap tipe data dasar ini menjadi landasan\n",
        "penting dalam mengembangkan logika program yang efisien dan terstruktur, sekaligus\n",
        "mempersiapkan mahasiswa untuk mengimplementasikan konsep pemrograman berorientasi\n"
      ],
      "metadata": {
        "id": "2uEww7-hvBkq"
      }
    },
    {
      "cell_type": "code",
      "source": [
        "# 1. Number (int, float, complex)\n",
        "# Integer (int)\n",
        "angka_int = 10\n",
        "print (\"angka_int =\", angka_int, \"->\", type(angka_int))\n",
        "\n",
        "# Float\n",
        "angka_float = 3.14\n",
        "print(\"angka_float =\", angka_float, \"->\", type(angka_float))\n",
        "\n",
        "# Complex\n",
        "angka_complex = 2 + 3j\n",
        "print(\"angka_complex =\", angka_complex, \"->\", type(angka_complex))"
      ],
      "metadata": {
        "id": "Gcmqv3WqtL2b",
        "outputId": "8aeff394-7c4a-41ec-c311-19d4d1d8073b",
        "colab": {
          "base_uri": "https://localhost:8080/"
        }
      },
      "execution_count": null,
      "outputs": [
        {
          "output_type": "stream",
          "name": "stdout",
          "text": [
            "angka_int = 10 -> <class 'int'>\n",
            "angka_float = 3.14 -> <class 'float'>\n",
            "angka_complex = (2+3j) -> <class 'complex'>\n"
          ]
        }
      ]
    },
    {
      "cell_type": "code",
      "source": [
        "# 2. Boolean\n",
        "is_active = True\n",
        "print(\"is_active =\", is_active, \"->\", type(is_active))"
      ],
      "metadata": {
        "id": "dAnTAH8s1TJS",
        "outputId": "425c65a9-8909-47ea-ef13-68ab47e52448",
        "colab": {
          "base_uri": "https://localhost:8080/"
        }
      },
      "execution_count": null,
      "outputs": [
        {
          "output_type": "stream",
          "name": "stdout",
          "text": [
            "is_active = True -> <class 'bool'>\n"
          ]
        }
      ]
    },
    {
      "cell_type": "code",
      "source": [
        "# 3. String\n",
        "teks = \"Hello, Python!\"\n",
        "print(\"teks =\", teks, \"->\", type(teks))"
      ],
      "metadata": {
        "id": "1usTYjnj1XFq",
        "outputId": "656c9b77-6844-44ad-8351-b8d309282896",
        "colab": {
          "base_uri": "https://localhost:8080/"
        }
      },
      "execution_count": null,
      "outputs": [
        {
          "output_type": "stream",
          "name": "stdout",
          "text": [
            "teks = Hello, Python! -> <class 'str'>\n"
          ]
        }
      ]
    },
    {
      "cell_type": "code",
      "source": [
        "# 4. List\n",
        "# List adalah tipe data terurut dan dapat diubah (mutable)\n",
        "daftar_angka = [1, 2, 3, 4, 5]\n",
        "print(\"daftar_angka =\", daftar_angka, \"->\", type(daftar_angka))\n",
        "\n"
      ],
      "metadata": {
        "id": "ykXKO1P81Z5T",
        "outputId": "bcc588fa-9893-40ab-92d8-6d986065cbde",
        "colab": {
          "base_uri": "https://localhost:8080/"
        }
      },
      "execution_count": null,
      "outputs": [
        {
          "output_type": "stream",
          "name": "stdout",
          "text": [
            "daftar_angka = [1, 2, 3, 4, 5] -> <class 'list'>\n"
          ]
        }
      ]
    },
    {
      "cell_type": "code",
      "source": [
        "# 5. Tuple\n",
        "# Tuple adalah tipe data terurut tetapi tidak dapat diubah (immutable)\n",
        "koordinat = (10, 20)\n",
        "print(\"koordinat =\", koordinat, \"->\", type(koordinat))"
      ],
      "metadata": {
        "id": "9fKP9oaf1dOf",
        "colab": {
          "base_uri": "https://localhost:8080/"
        },
        "outputId": "82848afa-6b32-4bee-d74e-07b59b741d2b"
      },
      "execution_count": null,
      "outputs": [
        {
          "output_type": "stream",
          "name": "stdout",
          "text": [
            "koordinat = (10, 20) -> <class 'tuple'>\n"
          ]
        }
      ]
    },
    {
      "cell_type": "code",
      "source": [
        "# 6. Dictionary\n",
        "# Dictionary menyimpan data dalam pasangan key-value\n",
        "data_mahasiswa = {\n",
        "    \"nama\": \"Andi\",\n",
        "    \"nim\": \"A11.2022.12345\",\n",
        "    \"jurusan\": \"Teknik Informatika\"\n",
        "}\n",
        "print(\"data_mahasiswa =\", data_mahasiswa, \"->\", type(data_mahasiswa))\n"
      ],
      "metadata": {
        "id": "NfGQHJzP1fAy",
        "outputId": "b198d04f-0b99-4f46-8df1-486e96400b53",
        "colab": {
          "base_uri": "https://localhost:8080/"
        }
      },
      "execution_count": null,
      "outputs": [
        {
          "output_type": "stream",
          "name": "stdout",
          "text": [
            "data_mahasiswa = {'nama': 'Andi', 'nim': 'A11.2022.12345', 'jurusan': 'Teknik Informatika'} -> <class 'dict'>\n"
          ]
        }
      ]
    },
    {
      "cell_type": "code",
      "source": [
        "# 7. Set\n",
        "# Set adalah tipe data yang tidak terurut, unik (tiap elemen hanya muncul 1x)\n",
        "himpunan_angka = {1, 2, 3, 2, 1}\n",
        "print(\"himpunan_angka =\", himpunan_angka, \"->\", type(himpunan_angka))"
      ],
      "metadata": {
        "id": "SqEhKzJJ1iGi",
        "outputId": "158f66a7-f504-462d-d174-b71ffaaabf0c",
        "colab": {
          "base_uri": "https://localhost:8080/"
        }
      },
      "execution_count": null,
      "outputs": [
        {
          "output_type": "stream",
          "name": "stdout",
          "text": [
            "himpunan_angka = {1, 2, 3} -> <class 'set'>\n"
          ]
        }
      ]
    },
    {
      "cell_type": "code",
      "source": [
        "# 8. Contoh penggunaan konversi tipe data\n",
        "nilai_str = \"100\"\n",
        "print(\"\\nnilai_str =\", nilai_str, \"->\", type(nilai_str))\n",
        "nilai_int = int(nilai_str)  # konversi string ke integer\n",
        "print(\"nilai_int =\", nilai_int, \"->\", type(nilai_int))"
      ],
      "metadata": {
        "id": "dGgkIKoZ1kjK",
        "outputId": "c5beba13-2997-4663-ce4b-d6503e2f75a7",
        "colab": {
          "base_uri": "https://localhost:8080/"
        }
      },
      "execution_count": null,
      "outputs": [
        {
          "output_type": "stream",
          "name": "stdout",
          "text": [
            "\n",
            "nilai_str = 100 -> <class 'str'>\n",
            "nilai_int = 100 -> <class 'int'>\n"
          ]
        }
      ]
    },
    {
      "cell_type": "markdown",
      "source": [
        "## Praktikum 02. Variabel dan Operasi dasar"
      ],
      "metadata": {
        "id": "NLQ-qJBtq5Nz"
      }
    },
    {
      "cell_type": "markdown",
      "source": [
        "Pada praktikum ini, mahasiswa akan mempelajari cara mendeklarasikan variabel tanpa harus\n",
        "menentukan tipe data secara eksplisit di Python. Beragam operasi dasar—seperti aritmetika\n",
        "(penjumlahan, pengurangan, perkalian, pembagian), perbandingan (==, !=, >, <, >=, <=), dan\n",
        "logika (and, or, not)—akan diterapkan untuk memanipulasi nilai yang disimpan dalam variabel.\n",
        "Dengan mempraktikkan berbagai operasi tersebut, mahasiswa dapat memahami bagaimana\n",
        "Python menangani ekspresi matematika dan logika untuk membentuk fondasi pengembangan\n",
        "aplikasi yang lebih kompleks."
      ],
      "metadata": {
        "id": "DZrUQeTEvKRS"
      }
    },
    {
      "cell_type": "code",
      "source": [
        "# 1. Pendeklarasian Variabel\n",
        "nama = \"Budi\"\n",
        "umur = 20\n",
        "tinggi = 170.5\n",
        "is_student = True\n",
        "\n",
        "print(\"Nama =\", nama)\n",
        "print(\"Umur =\", umur)\n",
        "print(\"Tinggi =\", tinggi, \"cm\")\n",
        "print(\"Mahasiswa =\", is_student)\n",
        "\n",
        "# Python tidak memerlukan deklarasi tipe data secara eksplisit.\n",
        "# Tipe data variabel akan menyesuaikan nilai yang diberikan."
      ],
      "metadata": {
        "id": "fNOBhpydzFx-",
        "outputId": "b8f7a677-e21b-4db3-8e44-5101729eef8d",
        "colab": {
          "base_uri": "https://localhost:8080/"
        }
      },
      "execution_count": null,
      "outputs": [
        {
          "output_type": "stream",
          "name": "stdout",
          "text": [
            "Nama = Budi\n",
            "Umur = 20\n",
            "Tinggi = 170.5 cm\n",
            "Mahasiswa = True\n"
          ]
        }
      ]
    },
    {
      "cell_type": "code",
      "source": [
        "# 2. Operasi Aritmetika\n",
        "a = 10\n",
        "b = 3\n",
        "\n",
        "penjumlahan = a + b      # Tambah\n",
        "pengurangan = a - b      # Kurang\n",
        "perkalian = a * b        # Kali\n",
        "pembagian = a / b        # Bagi (hasil float)\n",
        "pembagian_bulat = a // b # Bagi (bulat)\n",
        "modulus = a % b          # Sisa bagi\n",
        "pangkat = a ** b         # Pemangkatan\n",
        "\n",
        "print(\"\\nOPERASI ARITMETIKA\")\n",
        "print(\"a =\", a, \", b =\", b)\n",
        "print(\"Penjumlahan =\", penjumlahan)\n",
        "print(\"Pengurangan =\", pengurangan)\n",
        "print(\"Perkalian =\", perkalian)\n",
        "print(\"Pembagian =\", pembagian)\n",
        "print(\"Pembagian Bulat =\", pembagian_bulat)\n",
        "print(\"Modulus =\", modulus)\n",
        "print(\"Pangkat =\", pangkat)"
      ],
      "metadata": {
        "id": "8PHh9vAd2PlA",
        "outputId": "ed2f1b68-3b84-4ab4-ec83-c96ed3d224e7",
        "colab": {
          "base_uri": "https://localhost:8080/"
        }
      },
      "execution_count": null,
      "outputs": [
        {
          "output_type": "stream",
          "name": "stdout",
          "text": [
            "\n",
            "OPERASI ARITMETIKA\n",
            "a = 10 , b = 3\n",
            "Penjumlahan = 13\n",
            "Pengurangan = 7\n",
            "Perkalian = 30\n",
            "Pembagian = 3.3333333333333335\n",
            "Pembagian Bulat = 3\n",
            "Modulus = 1\n",
            "Pangkat = 1000\n"
          ]
        }
      ]
    },
    {
      "cell_type": "code",
      "source": [
        "# 3. Operasi Perbandingan\n",
        "# Menghasilkan nilai Boolean (True/False)\n",
        "lebih_besar = a > b\n",
        "kurang_dari = a < b\n",
        "sama_dengan = a == b\n",
        "tidak_sama = a != b\n",
        "lebih_besar_sama = a >= b\n",
        "kurang_sama = a <= b\n",
        "\n",
        "print(\"\\nOPERASI PERBANDINGAN\")\n",
        "print(\"a > b =\", lebih_besar)\n",
        "print(\"a < b =\", kurang_dari)\n",
        "print(\"a == b =\", sama_dengan)\n",
        "print(\"a != b =\", tidak_sama)\n",
        "print(\"a >= b =\", lebih_besar_sama)\n",
        "print(\"a <= b =\", kurang_sama)"
      ],
      "metadata": {
        "id": "8Ye4BJkD2Vgc",
        "outputId": "4b57bd4a-c10e-4929-ef9b-ede1a8ea1fca",
        "colab": {
          "base_uri": "https://localhost:8080/"
        }
      },
      "execution_count": null,
      "outputs": [
        {
          "output_type": "stream",
          "name": "stdout",
          "text": [
            "\n",
            "OPERASI PERBANDINGAN\n",
            "a > b = True\n",
            "a < b = False\n",
            "a == b = False\n",
            "a != b = True\n",
            "a >= b = True\n",
            "a <= b = False\n"
          ]
        }
      ]
    },
    {
      "cell_type": "code",
      "source": [
        "# 4. Operasi Logika\n",
        "# and, or, not\n",
        "\n",
        "x = True\n",
        "y = False\n",
        "\n",
        "logika_and = x and y\n",
        "logika_or = x or y\n",
        "logika_not_x = not x\n",
        "\n",
        "print(\"\\nOPERASI LOGIKA\")\n",
        "print(\"x =\", x, \", y =\", y)\n",
        "print(\"x and y =\", logika_and)\n",
        "print(\"x or y =\", logika_or)\n",
        "print(\"not x =\", logika_not_x)"
      ],
      "metadata": {
        "id": "_WLTQ_u72YNt",
        "outputId": "87f5a9bc-781f-4f2b-ef5e-5b91a87eadb3",
        "colab": {
          "base_uri": "https://localhost:8080/"
        }
      },
      "execution_count": null,
      "outputs": [
        {
          "output_type": "stream",
          "name": "stdout",
          "text": [
            "\n",
            "OPERASI LOGIKA\n",
            "x = True , y = False\n",
            "x and y = False\n",
            "x or y = True\n",
            "not x = False\n"
          ]
        }
      ]
    },
    {
      "cell_type": "code",
      "source": [
        "# 5. Contoh penggunaan di dalam percabangan\n",
        "if a > b and b > 0:\n",
        "  print(\"\\nKondisi terpenuhi: a lebih besar dari b, dan b masih positif.\")\n",
        "else:\n",
        "  print(\"\\nKondisi tidak terpenuhi atau b <= 0.\")"
      ],
      "metadata": {
        "id": "y7Tp5Wi92dh-",
        "outputId": "3ad1919f-9da0-4e8c-de65-123a320fc3de",
        "colab": {
          "base_uri": "https://localhost:8080/"
        }
      },
      "execution_count": null,
      "outputs": [
        {
          "output_type": "stream",
          "name": "stdout",
          "text": [
            "\n",
            "Kondisi terpenuhi: a lebih besar dari b, dan b masih positif.\n"
          ]
        }
      ]
    },
    {
      "cell_type": "markdown",
      "source": [
        "## Praktikum 03. Percabangan"
      ],
      "metadata": {
        "id": "cEv4mdZKrxHU"
      }
    },
    {
      "cell_type": "markdown",
      "source": [
        "Praktikum ini berfokus pada penerapan struktur kontrol aliran program berbasis kondisi,\n",
        "meliputi penggunaan if sederhana, if-else, if-elif-else, serta if bersarang (nested if). Mahasiswa\n",
        "akan mempelajari cara menggabungkan operasi logika (and, or, not) dengan percabangan untuk\n",
        "mengolah beragam skenario keputusan dalam program. Pendekatan ini memperkenalkan\n",
        "bagaimana jalannya program dapat berbeda tergantung pada kondisi yang diperiksa."
      ],
      "metadata": {
        "id": "F7JuHchvvOME"
      }
    },
    {
      "cell_type": "code",
      "source": [
        "# 1. IF Sederhana\n",
        "# Program hanya mengeksekusi blok jika kondisinya True\n",
        "\n",
        "nilai = 85\n",
        "print(\"Contoh IF Sederhana:\")\n",
        "if nilai > 80:\n",
        "     print(\"Selamat! Anda lulus dengan nilai tinggi.\\n\")"
      ],
      "metadata": {
        "id": "sayRBiKA2sdv",
        "outputId": "083b4fd4-892f-48fe-f3ae-a610e78f941f",
        "colab": {
          "base_uri": "https://localhost:8080/"
        }
      },
      "execution_count": null,
      "outputs": [
        {
          "output_type": "stream",
          "name": "stdout",
          "text": [
            "Contoh IF Sederhana:\n",
            "Selamat! Anda lulus dengan nilai tinggi.\n",
            "\n"
          ]
        }
      ]
    },
    {
      "cell_type": "code",
      "source": [
        "# 2. IF-ELSE\n",
        "# Jika kondisi True, eksekusi blok if; jika False, eksekusi blok else\n",
        "\n",
        "umur = 17\n",
        "print(\"Contoh IF-ELSE:\")\n",
        "if umur >= 18:\n",
        "     print(\"Anda sudah cukup umur untuk mendapatkan SIM.\")\n",
        "else:\n",
        "     print(\"Anda belum cukup umur untuk mendapatkan SIM.\\n\")"
      ],
      "metadata": {
        "id": "p5fkyRbc3HrI",
        "outputId": "abfcfc17-0a41-46d5-a890-bc880e19bad8",
        "colab": {
          "base_uri": "https://localhost:8080/"
        }
      },
      "execution_count": null,
      "outputs": [
        {
          "output_type": "stream",
          "name": "stdout",
          "text": [
            "Contoh IF-ELSE:\n",
            "Anda belum cukup umur untuk mendapatkan SIM.\n",
            "\n"
          ]
        }
      ]
    },
    {
      "cell_type": "code",
      "source": [
        "# 3. IF-ELIF-ELSE\n",
        "# Menangani banyak kondisi secara berurutan.\n",
        "# Jika ada kondisi yang terpenuhi, blok yang bersangkutan dieksekusi,\n",
        "# lalu program melewati blok kondisi setelahnya.\n",
        "\n",
        "hari = \"Rabu\"\n",
        "print(\"Contoh IF-ELIF-ELSE:\")\n",
        "if hari == \"Senin\":\n",
        "    print(\"Hari Senin - Saatnya kembali bekerja!\")\n",
        "elif hari == \"Selasa\":\n",
        "    print(\"Hari Selasa - Jadwal rapat mingguan.\")\n",
        "elif hari == \"Rabu\":\n",
        "    print(\"Hari Rabu - Ada diskon di beberapa toko.\")\n",
        "else:\n",
        "    print(\"Hari lainnya - Atur jadwalmu dengan baik.\\n\")"
      ],
      "metadata": {
        "id": "4L8nxjBt3X0_",
        "outputId": "8236dc53-009c-4e22-bfc3-a78eb4ad2265",
        "colab": {
          "base_uri": "https://localhost:8080/"
        }
      },
      "execution_count": null,
      "outputs": [
        {
          "output_type": "stream",
          "name": "stdout",
          "text": [
            "Contoh IF-ELIF-ELSE:\n",
            "Hari Rabu - Ada diskon di beberapa toko.\n"
          ]
        }
      ]
    },
    {
      "cell_type": "code",
      "source": [
        "# 4. IF Bersarang (Nested IF)\n",
        "# Kondisi di dalam kondisi, biasa digunakan jika kita perlu\n",
        "# memeriksa sub-kondisi setelah kondisi pertama terpenuhi.\n",
        "\n",
        "suhu = 35\n",
        "print(\"Contoh IF Bersarang (Nested IF):\")\n",
        "if suhu > 30:\n",
        "    print(\"Cuaca cukup panas.\")\n",
        "    if suhu > 40:\n",
        "       print(\"Bahkan sangat terik! Disarankan banyak minum air.\")\n",
        "    else:\n",
        "       print(\"Masih relatif normal, tapi tetap jaga kesehatan.\")\n",
        "else:\n",
        "       print(\"Cuaca sepertinya cukup sejuk.\\n\")"
      ],
      "metadata": {
        "id": "yhiHXA9U333D",
        "outputId": "1fac391c-0238-4981-a898-aab6f2541e38",
        "colab": {
          "base_uri": "https://localhost:8080/"
        }
      },
      "execution_count": null,
      "outputs": [
        {
          "output_type": "stream",
          "name": "stdout",
          "text": [
            "Contoh IF Bersarang (Nested IF):\n",
            "Cuaca cukup panas.\n",
            "Masih relatif normal, tapi tetap jaga kesehatan.\n"
          ]
        }
      ]
    },
    {
      "cell_type": "code",
      "source": [
        "# 5. Menggabungkan Percabangan dengan Operasi Logika\n",
        "# Memeriksa beberapa kondisi sekaligus dengan and, or, not\n",
        "\n",
        "nilai_teori = 75\n",
        "nilai_praktik = 80\n",
        "print(\"Contoh IF dengan Operasi Logika AND/OR:\")\n",
        "if nilai_teori >= 70 and nilai_praktik >= 70:\n",
        "     print(\"Anda lulus karena nilai teori dan praktik memadai.\")\n",
        "elif nilai_teori < 70 and nilai_praktik < 70:\n",
        "     print(\"Anda perlu meningkatkan nilai teori dan praktik.\")\n",
        "elif nilai_teori < 70:\n",
        "    print(\"Anda perlu meningkatkan nilai teori.\")\n",
        "else:\n",
        "    print(\"Anda perlu meningkatkan nilai praktik.\\n\")"
      ],
      "metadata": {
        "id": "Imsl3rDE4mhb",
        "outputId": "a67bd332-98b0-48fd-bd71-0cf91ca5a9d5",
        "colab": {
          "base_uri": "https://localhost:8080/"
        }
      },
      "execution_count": null,
      "outputs": [
        {
          "output_type": "stream",
          "name": "stdout",
          "text": [
            "Contoh IF dengan Operasi Logika AND/OR:\n",
            "Anda lulus karena nilai teori dan praktik memadai.\n"
          ]
        }
      ]
    },
    {
      "cell_type": "code",
      "source": [
        "# 6. Penggunaan If Ternary (atau Conditional Expression)\n",
        "# Bentuk ringkas: <hasil_if_true> if <kondisi> else <hasil_if_false>\n",
        "\n",
        "angka = -5\n",
        "print(\"Contoh If Ternary (Conditional Expression):\")\n",
        "status = \"Positif\" if angka > 0 else \"Negatif atau Nol\"\n",
        "print(\"Angka =\", angka, \"=>\", status)"
      ],
      "metadata": {
        "id": "q0sjX96u5aC6",
        "outputId": "f0fe3e1b-521f-4efc-eb64-24b0236e4e44",
        "colab": {
          "base_uri": "https://localhost:8080/"
        }
      },
      "execution_count": null,
      "outputs": [
        {
          "output_type": "stream",
          "name": "stdout",
          "text": [
            "Contoh If Ternary (Conditional Expression):\n",
            "Angka = -5 => Negatif atau Nol\n"
          ]
        }
      ]
    },
    {
      "cell_type": "markdown",
      "source": [
        "## Praktikum 04. Perulangan"
      ],
      "metadata": {
        "id": "-QXaZ5nysP71"
      }
    },
    {
      "cell_type": "markdown",
      "source": [
        "Pada praktikum ini, mahasiswa akan mendalami cara mengulang eksekusi suatu blok kode\n",
        "berkali-kali menggunakan struktur perulangan for dan while. Beragam fitur lanjutan, seperti\n",
        "break, continue, serta loop bersarang (nested loop), turut diulas untuk memberikan fleksibilitas\n",
        "lebih dalam mengelola logika program. Mahasiswa juga akan mempelajari penggunaan else\n",
        "pada loop yang merupakan fitur unik Python, serta bagaimana memanfaatkan pass sebagai\n",
        "placeholder."
      ],
      "metadata": {
        "id": "CjRGMZU0vUGJ"
      }
    },
    {
      "cell_type": "code",
      "source": [
        "# 1. FOR Loop dengan range()\n",
        "print(\"1) FOR loop dengan range()\")\n",
        "for i in range(5):\n",
        "     print(\"Perulangan ke-\", i)\n",
        "# range(5) menghasilkan nilai 0, 1, 2, 3, dan 4\n",
        "# Sehingga perulangan akan berjalan sebanyak 5 kali\n",
        "\n",
        "print()  # pemisah output"
      ],
      "metadata": {
        "id": "wcacO1zD5kpi",
        "outputId": "dd0a319c-9280-4bfa-aa60-d5d49963eef9",
        "colab": {
          "base_uri": "https://localhost:8080/"
        }
      },
      "execution_count": null,
      "outputs": [
        {
          "output_type": "stream",
          "name": "stdout",
          "text": [
            "1) FOR loop dengan range()\n",
            "Perulangan ke- 0\n",
            "Perulangan ke- 1\n",
            "Perulangan ke- 2\n",
            "Perulangan ke- 3\n",
            "Perulangan ke- 4\n",
            "\n"
          ]
        }
      ]
    },
    {
      "cell_type": "code",
      "source": [
        "# 2. FOR Loop untuk mengiterasi List\n",
        "print(\"2) FOR loop mengiterasi list\")\n",
        "buah = [\"apel\", \"mangga\", \"jeruk\", \"pisang\"]\n",
        "for item in buah:\n",
        "     print(\"Buah:\", item)\n",
        "# Loop akan mengeksekusi setiap elemen dalam list \"buah\"\n",
        "\n",
        "print()"
      ],
      "metadata": {
        "id": "HvVP8N915xfx",
        "outputId": "05ecc1cb-5e38-46d8-ba61-4988e2050b28",
        "colab": {
          "base_uri": "https://localhost:8080/"
        }
      },
      "execution_count": null,
      "outputs": [
        {
          "output_type": "stream",
          "name": "stdout",
          "text": [
            "2) FOR loop mengiterasi list\n",
            "Buah: apel\n",
            "Buah: mangga\n",
            "Buah: jeruk\n",
            "Buah: pisang\n",
            "\n"
          ]
        }
      ]
    },
    {
      "cell_type": "code",
      "source": [
        "# 3. WHILE Loop\n",
        "print(\"3) WHILE loop sederhana\")\n",
        "count = 0\n",
        "while count < 5:\n",
        "     print(\"count =\", count)\n",
        "     count += 1  # increment\n",
        "# Perulangan while terus dijalankan selama kondisi (count < 5) bernilai\n",
        "True\n",
        "\n",
        "print()"
      ],
      "metadata": {
        "id": "M92Hz5Zs59L4",
        "outputId": "a4f27c11-be45-4140-96af-0e411f4db8a2",
        "colab": {
          "base_uri": "https://localhost:8080/"
        }
      },
      "execution_count": null,
      "outputs": [
        {
          "output_type": "stream",
          "name": "stdout",
          "text": [
            "3) WHILE loop sederhana\n",
            "count = 0\n",
            "count = 1\n",
            "count = 2\n",
            "count = 3\n",
            "count = 4\n",
            "\n"
          ]
        }
      ]
    },
    {
      "cell_type": "code",
      "source": [
        "# 4. BREAK pada Loop\n",
        "print(\"4) BREAK di dalam loop\")\n",
        "for i in range(10):\n",
        "     if i == 3:\n",
        "            print(\"Loop dihentikan pada i =\", i)\n",
        "            break  # mengakhiri loop saat i = 3\n",
        "     print(\"i =\", i)\n",
        "# Keyword break langsung menghentikan keseluruhan perulangan\n",
        "\n",
        "print()"
      ],
      "metadata": {
        "id": "5pit-y4-6LvO",
        "outputId": "9e7fdd5c-9402-429a-bc0e-ba7d93787376",
        "colab": {
          "base_uri": "https://localhost:8080/"
        }
      },
      "execution_count": null,
      "outputs": [
        {
          "output_type": "stream",
          "name": "stdout",
          "text": [
            "4) BREAK di dalam loop\n",
            "i = 0\n",
            "i = 1\n",
            "i = 2\n",
            "Loop dihentikan pada i = 3\n",
            "\n"
          ]
        }
      ]
    },
    {
      "cell_type": "code",
      "source": [
        "# 5. CONTINUE pada Loop\n",
        "print(\"5) CONTINUE di dalam loop\")\n",
        "for i in range(5):\n",
        "    if i == 2:\n",
        "        print(\"Lewati i =\", i, \"dengan continue\")\n",
        "        continue  # melewati iterasi saat ini dan lanjut ke iterasi\n",
        "    print(\"i =\", i)\n",
        "# Saat i = 2, baris print(\"i =\", i) tidak akan dieksekusi\n",
        "\n",
        "print()"
      ],
      "metadata": {
        "id": "Id-z8cFT6b9V",
        "outputId": "3a3d9560-5ca1-42da-dc61-10228999cde4",
        "colab": {
          "base_uri": "https://localhost:8080/"
        }
      },
      "execution_count": null,
      "outputs": [
        {
          "output_type": "stream",
          "name": "stdout",
          "text": [
            "5) CONTINUE di dalam loop\n",
            "i = 0\n",
            "i = 1\n",
            "Lewati i = 2 dengan continue\n",
            "i = 3\n",
            "i = 4\n",
            "\n"
          ]
        }
      ]
    },
    {
      "cell_type": "code",
      "source": [
        "# 6. NESTED Loop (Loop Bersarang)\n",
        "print(\"6) NESTED loop\")\n",
        "for i in range(3):            # Loop luar (outer loop)\n",
        "    for j in range(2):        # Loop dalam (inner loop)\n",
        "        print(f\"i={i}, j={j}\")\n",
        "# Pada setiap iterasi i, loop j akan berjalan dari 0 sampai 1\n",
        "\n",
        "print()"
      ],
      "metadata": {
        "id": "K9qGU3BQ7V0A",
        "outputId": "7f14ea1f-5665-4730-a763-9597d3a63ccf",
        "colab": {
          "base_uri": "https://localhost:8080/"
        }
      },
      "execution_count": null,
      "outputs": [
        {
          "output_type": "stream",
          "name": "stdout",
          "text": [
            "6) NESTED loop\n",
            "i=0, j=0\n",
            "i=0, j=1\n",
            "i=1, j=0\n",
            "i=1, j=1\n",
            "i=2, j=0\n",
            "i=2, j=1\n",
            "\n"
          ]
        }
      ]
    },
    {
      "cell_type": "code",
      "source": [
        "# 7. Memanfaatkan ELSE pada Loop\n",
        "print(\"7) ELSE pada loop for/while\")\n",
        "# Python memiliki fitur unik: blok else pada loop\n",
        "# Blok else akan dieksekusi jika loop selesai tanpa di-break.\n",
        "\n",
        "for x in range(3):\n",
        "    print(\"x =\", x)\n",
        "else:\n",
        "    print(\"Loop for telah selesai tanpa break.\\n\")\n",
        "\n",
        "y = 0\n",
        "while y < 3:\n",
        "    print(\"y =\", y)\n",
        "    y += 1\n",
        "else:\n",
        "    print(\"Loop while telah selesai tanpa break.\\n\")"
      ],
      "metadata": {
        "id": "TLjv81qf7bRb",
        "outputId": "d19cae8e-f852-4064-c5a4-ed634aa3eb12",
        "colab": {
          "base_uri": "https://localhost:8080/"
        }
      },
      "execution_count": null,
      "outputs": [
        {
          "output_type": "stream",
          "name": "stdout",
          "text": [
            "7) ELSE pada loop for/while\n",
            "x = 0\n",
            "x = 1\n",
            "x = 2\n",
            "Loop for telah selesai tanpa break.\n",
            "\n",
            "y = 0\n",
            "y = 1\n",
            "y = 2\n",
            "Loop while telah selesai tanpa break.\n",
            "\n"
          ]
        }
      ]
    },
    {
      "cell_type": "code",
      "source": [
        "# 8. PASS sebagai placeholder\n",
        "print(\"8) PASS (placeholder)\")\n",
        "for i in range(3):\n",
        "    if i == 1:\n",
        "        pass  # pass tidak melakukan apa-apa, digunakan sebagai placeholder\n",
        "    print(\"i =\", i)"
      ],
      "metadata": {
        "id": "nvWbOSWK7kWb",
        "outputId": "fb1393b5-180b-438d-e2b5-a71c060fbe08",
        "colab": {
          "base_uri": "https://localhost:8080/"
        }
      },
      "execution_count": null,
      "outputs": [
        {
          "output_type": "stream",
          "name": "stdout",
          "text": [
            "8) PASS (placeholder)\n",
            "i = 0\n",
            "i = 1\n",
            "i = 2\n"
          ]
        }
      ]
    },
    {
      "cell_type": "markdown",
      "source": [
        "## Penugasan Program 01: Menghitung BMI"
      ],
      "metadata": {
        "id": "x8YEPhs6797h"
      }
    },
    {
      "cell_type": "markdown",
      "source": [
        "Buat program untuk menghitung BMI (Body Mass Index) dengan\n",
        "rumus:\n",
        "\n",
        "![Screenshot 2025-03-13 122255.png](data:image/png;base64,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)\n",
        "\n",
        "a. Input: berat (kg) dan tinggi (cm).\n",
        "b. Output: nilai BMI dan kategori (Underweight dibawah 18.5, Normal 18.5-24.9,\n",
        "Overweight 25-29.9).\n",
        "Untuk mendapatkan input, dapat mengguanakan perintah input() pada program\n",
        "python."
      ],
      "metadata": {
        "id": "qxiQHjsl8_Pa"
      }
    },
    {
      "cell_type": "code",
      "source": [
        "# Menghitung Body Mass Index\n",
        "print(\"Program Menghitung BMI\")\n",
        "\n",
        "# Input data pengguna\n",
        "berat_badan = float(input(\"Masukkan berat badan (kg): \"))\n",
        "tinggi_badan = float(input(\"Masukkan tinggi badan (m): \"))\n",
        "\n",
        "# Rumus\n",
        "nilai_bmi = berat_badan / (tinggi_badan ** 2)\n",
        "\n",
        "print(\"Nilai bmi: \", nilai_bmi)\n",
        "\n",
        "# Kondisi\n",
        "if nilai_bmi < 18.5:\n",
        "  print(\"Kategori: Underweight\")\n",
        "elif nilai_bmi >= 18.5 and nilai_bmi <= 24.9:\n",
        "  print(\"Kategori: Normal\")\n",
        "elif nilai_bmi >= 25 and nilai_bmi <= 29.9:\n",
        "  print(\"Kategori: Overweight\")"
      ],
      "metadata": {
        "id": "3v3ROIXN8-L3",
        "colab": {
          "base_uri": "https://localhost:8080/"
        },
        "outputId": "ec933a5d-d7fe-4149-d48b-3c443421137d"
      },
      "execution_count": 3,
      "outputs": [
        {
          "output_type": "stream",
          "name": "stdout",
          "text": [
            "Program Menghitung BMI\n",
            "Masukkan berat badan (kg): 65\n",
            "Masukkan tinggi badan (m): 1.5\n",
            "Nilai bmi:  28.88888888888889\n",
            "Kategori: Overweight\n"
          ]
        }
      ]
    },
    {
      "cell_type": "markdown",
      "source": [
        "## Penugasan Program 02:Mengecek suatu bilangan"
      ],
      "metadata": {
        "id": "h0IOPeVJ8vTg"
      }
    },
    {
      "cell_type": "markdown",
      "source": [
        "Buat program yang mengecek apakah suatu bilangan genap, ganjil,\n",
        "atau prima."
      ],
      "metadata": {
        "id": "yMS973t79mdl"
      }
    },
    {
      "cell_type": "code",
      "source": [
        "print(\"Program Bilangan\")\n",
        "\n",
        "# Input bilangan\n",
        "bilangan = int(input(\"Masukkan bilangan: \"))\n",
        "\n",
        "# Memeriksa bilangan ganjil genap\n",
        "if bilangan % 2 == 0:\n",
        "  print(bilangan, \"adalah bilangan genap.\")\n",
        "else:\n",
        "  print(bilangan, \"adalah bilangan ganjil.\")\n",
        "\n",
        "# Memeriksa bilangan prima\n",
        "if bilangan > 1:\n",
        "  for i in range(2, bilangan):\n",
        "    if (bilangan % i) == 0:\n",
        "        print(bilangan, \"bukan bilangan prima.\")\n",
        "        break\n",
        "  else:\n",
        "    print(bilangan, \"adalah bilangan prima.\")\n",
        "else:\n",
        "  print(bilangan, \"bukan bilangan prima.\")"
      ],
      "metadata": {
        "colab": {
          "base_uri": "https://localhost:8080/"
        },
        "id": "1XG4L8ZtHprl",
        "outputId": "00aa7473-b704-4100-8211-306f4ea91294"
      },
      "execution_count": 9,
      "outputs": [
        {
          "output_type": "stream",
          "name": "stdout",
          "text": [
            "Program Bilangan\n",
            "Masukkan bilangan: 9\n",
            "9 adalah bilangan ganjil.\n",
            "9 bukan bilangan prima.\n"
          ]
        }
      ]
    }
  ]
}