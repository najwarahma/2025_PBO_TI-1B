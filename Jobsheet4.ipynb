{
  "nbformat": 4,
  "nbformat_minor": 0,
  "metadata": {
    "colab": {
      "provenance": [],
      "authorship_tag": "ABX9TyM6g+IDSAHwaYjcMzKRD2FW",
      "include_colab_link": true
    },
    "kernelspec": {
      "name": "python3",
      "display_name": "Python 3"
    },
    "language_info": {
      "name": "python"
    }
  },
  "cells": [
    {
      "cell_type": "markdown",
      "metadata": {
        "id": "view-in-github",
        "colab_type": "text"
      },
      "source": [
        "<a href=\"https://colab.research.google.com/github/najwarahma/2025_PBO_TI-1B/blob/main/Jobsheet4.ipynb\" target=\"_parent\"><img src=\"https://colab.research.google.com/assets/colab-badge.svg\" alt=\"Open In Colab\"/></a>"
      ]
    },
    {
      "cell_type": "markdown",
      "source": [
        "##Jobsheet 04: Memahami Pewarisan (Inheritance) dalam Python"
      ],
      "metadata": {
        "id": "PQlqjZxql_FI"
      }
    },
    {
      "cell_type": "markdown",
      "source": [
        "###Praktikum 01: Inheritance Dasar"
      ],
      "metadata": {
        "id": "e4yrsjOymQl1"
      }
    },
    {
      "cell_type": "code",
      "source": [
        "#Kelas Induk\n",
        "class Kendaraan:\n",
        "  def __init__(self, merk):\n",
        "    self.merk = merk\n",
        "\n",
        "  def mulai_mesin(self):\n",
        "      print(f\"Mesin kendaraan {self.merk} dinyalakan.\")\n",
        "\n",
        "#Kelas Anak (mewarisi dari Kendaraan)\n",
        "class Mobil (Kendaraan):\n",
        "  def __init__(self, merk, warna):\n",
        "    # Memanggil _init__kelas induk (akan dibahas di Praktikum 2)\n",
        "    # Untuk sekarang, kita set merk secara manual\n",
        "    self.merk = merk # Mewarisi 'merk' tapi di-set ulang di sini\n",
        "    self.warna = warna # Atribut khusus Mobil\n",
        "\n",
        "  def info_mobil(self):\n",
        "    print(f\" Ini adalah Mobil {self.merk} berwarna {self.warna}.\")\n",
        "\n",
        "# ---Kode Utama---\n",
        "if __name__ == \"__main__\":\n",
        "  mobil_tesla = Mobil (\"Tesla Model S\", \"Merah\")\n",
        "\n",
        "  # Memanggil metode dari anak kelas anak\n",
        "  mobil_tesla.info_mobil()\n",
        "\n",
        "  # Memanggil metode yang diwarisi dari kelas induk\n",
        "  mobil_tesla.mulai_mesin()\n",
        "\n",
        "  # Mengakses atribut yang diwarisi (dan di-set di anak)\n",
        "  print(f\"Merk mobil: {mobil_tesla.merk}\")"
      ],
      "metadata": {
        "id": "xKpZnZ2omV8n",
        "outputId": "fa6981d0-e160-4ce6-9dcb-823b3296244c",
        "colab": {
          "base_uri": "https://localhost:8080/"
        }
      },
      "execution_count": 1,
      "outputs": [
        {
          "output_type": "stream",
          "name": "stdout",
          "text": [
            " Ini adalah Mobil Tesla Model S berwarna Merah.\n",
            "Mesin kendaraan Tesla Model S dinyalakan.\n",
            "Merk mobil: Tesla Model S\n"
          ]
        }
      ]
    },
    {
      "cell_type": "markdown",
      "source": [
        "###Praktikum 02: Menggunakan super() dalam konstruktor"
      ],
      "metadata": {
        "id": "PRSAO4C1rzJq"
      }
    },
    {
      "cell_type": "code",
      "source": [
        "#Kelas Induk\n",
        "class Person:\n",
        "  def __init__(self, nama, usia):\n",
        "      print (f\"(Memanggil _init__Person untuk '{nama}')\")\n",
        "      self.nama = nama\n",
        "      self.usia = usia\n",
        "\n",
        "  def perkenalan_diri (self):\n",
        "          print (f\"Halo, nama saya {self.nama} dan usia saya {self.usia} tahun.\")\n",
        "\n",
        "#Kelas Anak (mewarisi dari Person)\n",
        "class Student (Person):\n",
        "  def __init__(self, nama, usia, student_id, jurusan):\n",
        "      print (f\"(Memanggil _init__Student untuk '{nama}')\")\n",
        "       # Memanggil __init__ dari kelas Person untuk inisialisasi nama dan usia\n",
        "      super().__init__(nama, usia)\n",
        "      #Menambahkan atribut khusus Student\n",
        "      self.student_id = student_id\n",
        "      self.jurusan = jurusan\n",
        "      print(f\"(Inisialisasi atribut Student selesai untuk '{nama}')\")\n",
        "\n",
        "  def info_akademik (self):\n",
        "    print(f\"ID Mahasiswa: {self.student_id}\")\n",
        "    print(f\"Jurusan: {self.jurusan}\")\n",
        "\n",
        "  #Override perkenalan_diri untuk menambahkan info student\n",
        "  def perkenalan_diri (self):\n",
        "    super().perkenalan_diri()\n",
        "    print(f\"Saya adalah mahasiswa dengan ID {self.student_id}, jurusan {self.jurusan}.\")\n",
        "\n",
        "# ---Kode Utama---\n",
        "if __name__ == \"__main__\":\n",
        "    #Membuat objek Person\n",
        "    dosen = Person(\"Pak Anton\", 45)\n",
        "    print(\"-\" * 20)\n",
        "    dosen.perkenalan_diri()\n",
        "    print(\"\\n\" + \"-\" * 30 + \"\\n\")\n",
        "\n",
        "    #Membuat objek Student\n",
        "    mahasiswa = Student(\"Dewi\", 20, \"MHS001\", \"Teknik Komputer\")\n",
        "    print(\"-\" * 20)\n",
        "    mahasiswa.perkenalan_diri() #Panggil versi override di Student\n",
        "    print(\"-\" * 20)\n",
        "    mahasiswa.info_akademik() #Panggil metode khusus Student\n",
        "\n",
        "    #Cek atribut yang diwarisi\n",
        "    print(f\"\\nUsia mahasiswa {mahasiswa.nama}: {mahasiswa.usia}\") #usia diwarisi dari person\n"
      ],
      "metadata": {
        "id": "WTBIGI83r6Ql",
        "outputId": "6a32d08e-00b3-49a8-d1f1-529a173b96cb",
        "colab": {
          "base_uri": "https://localhost:8080/"
        }
      },
      "execution_count": 2,
      "outputs": [
        {
          "output_type": "stream",
          "name": "stdout",
          "text": [
            "(Memanggil _init__Person untuk 'Pak Anton')\n",
            "--------------------\n",
            "Halo, nama saya Pak Anton dan usia saya 45 tahun.\n",
            "\n",
            "------------------------------\n",
            "\n",
            "(Memanggil _init__Student untuk 'Dewi')\n",
            "(Memanggil _init__Person untuk 'Dewi')\n",
            "(Inisialisasi atribut Student selesai untuk 'Dewi')\n",
            "--------------------\n",
            "Halo, nama saya Dewi dan usia saya 20 tahun.\n",
            "Saya adalah mahasiswa dengan ID MHS001, jurusan Teknik Komputer.\n",
            "--------------------\n",
            "ID Mahasiswa: MHS001\n",
            "Jurusan: Teknik Komputer\n",
            "\n",
            "Usia mahasiswa Dewi: 20\n"
          ]
        }
      ]
    },
    {
      "cell_type": "markdown",
      "source": [
        "###Praktikum 03: Method Overriding dan super()"
      ],
      "metadata": {
        "id": "6mfeNtxDwIoK"
      }
    },
    {
      "cell_type": "code",
      "source": [
        "#Kelas Induk\n",
        "class Hewan:\n",
        "  def __init__(self, nama):\n",
        "    self.nama = nama\n",
        "\n",
        "  def bersuara(self):\n",
        "    print(f\"{self.nama} mengeluarkan suara generik.\")\n",
        "\n",
        "  def tampilkan_info(self):\n",
        "    print(f\"Ini adalah hewan bernama {self.nama}.\")\n",
        "\n",
        "#Kelas Anak\n",
        "class Kucing(Hewan):\n",
        "  def __init__(self, nama, ras):\n",
        "    super() .__init__(nama) #Panggil init induk\n",
        "    self.ras = ras\n",
        "\n",
        "  #Method Overriding untuk bersuara\n",
        "  def bersuara(self):\n",
        "    print(f\"{self.nama} (Kucing) mengeong: Meow!\")\n",
        "\n",
        "  #Method Overriding untuk tampilkan_info, memanggil versi induk\n",
        "  def tampilkan_info(self):\n",
        "     super() .tampilkan_info() # Panggil implementasi dari Hewan\n",
        "     print(f\"Ini adalah kucing ras {self.ras}.\") # Tambahkan info spesifik\n",
        "\n",
        "# ---Kode Utama ---\n",
        "if __name__ == \"__main__\":\n",
        "  hewan_umum = Hewan(\"Mahkluk\")\n",
        "  kucing_persia = Kucing(\"Puspus\", \"Persia\")\n",
        "\n",
        "  print(\"Info Hewan Umum:\")\n",
        "  hewan_umum.tampilkan_info()\n",
        "  hewan_umum.bersuara()\n",
        "  print(\"-\" * 20)\n",
        "\n",
        "  print(\"Info Kucing Persia:\")\n",
        "  kucing_persia .tampilkan_info() #Akan memanggil versi Kucing\n",
        "  kucing_persia .bersuara() # Akan memanggil versi Kucing"
      ],
      "metadata": {
        "id": "Z4Gw6kZhwUs4",
        "outputId": "195ca3c5-83c9-40a5-b589-0256d3c48ae6",
        "colab": {
          "base_uri": "https://localhost:8080/"
        }
      },
      "execution_count": 3,
      "outputs": [
        {
          "output_type": "stream",
          "name": "stdout",
          "text": [
            "Info Hewan Umum:\n",
            "Ini adalah hewan bernama Mahkluk.\n",
            "Mahkluk mengeluarkan suara generik.\n",
            "--------------------\n",
            "Info Kucing Persia:\n",
            "Ini adalah hewan bernama Puspus.\n",
            "Ini adalah kucing ras Persia.\n",
            "Puspus (Kucing) mengeong: Meow!\n"
          ]
        }
      ]
    },
    {
      "cell_type": "markdown",
      "source": [
        "###Praktikum 04: Multi-level Inheritance (Pewarisan Bertingkat)"
      ],
      "metadata": {
        "id": "3trqedBYyq-t"
      }
    },
    {
      "cell_type": "code",
      "source": [
        "#Kelas Induk\n",
        "class Organisme:\n",
        "  def __init__(self, nama):\n",
        "    self.nama = nama\n",
        "    print(f\"Organisme '{self.nama}' diciptakan.\")\n",
        "\n",
        "  def bernapas(self):\n",
        "    print(f\"{self.nama} sedang bernapas.\")\n",
        "\n",
        "#Kelas Anak Level 1 (mewarisi dari Organisme)\n",
        "class Hewan(Organisme):\n",
        "  def __init__(self, nama, jenis_makanan):\n",
        "    super() .__init__(nama) #Panggilan init Organisme\n",
        "    self.jenis_makanan = jenis_makanan\n",
        "    print(f\"Hewan '{self.nama}' adalah {self.jenis_makanan}.\")\n",
        "\n",
        "  def bergerak(self):\n",
        "    print(f\"{self.nama} sedang bergerak.\")\n",
        "\n",
        "#Kelas Anak Level 2 (mewarisi dari Hewan)\n",
        "class Mamalia(Hewan):\n",
        "  def __init__(self, nama, jenis_makanan, jumlah_kaki):\n",
        "    super() .__init__(nama, jenis_makanan) #Panggil init Hewan\n",
        "    self.jumlah_kaki = jumlah_kaki\n",
        "    print(f\"Mamalia '{self.nama}' memiliki {self.jumlah_kaki} kaki.\")\n",
        "\n",
        "  def menyusui(self):\n",
        "    print(f\"{self.nama} sedang menyusui.\")\n",
        "\n",
        "# ---Kode Utama---\n",
        "if __name__ == \"__main__\":\n",
        "  kucing = Mamalia(\"Kucing Persia\", \"Karnivora\" , 4)\n",
        "  print (\"-\" * 20)\n",
        "\n",
        "  #Memanggil metode dari kelas Mamalia\n",
        "  kucing.menyusui()\n",
        "\n",
        "  #Memanggil metode yang diwarisi dari kelas Hewan\n",
        "  kucing.bergerak()\n",
        "  print(f\"Jenis makanan: {kucing.jenis_makanan}\")\n",
        "\n",
        "  #Memanggil metode yang diwarisi dari kelas Organisme\n",
        "  kucing.bernapas()\n",
        "  print(f\"Nama organisme: {kucing.nama}\")\n"
      ],
      "metadata": {
        "id": "BQPFQFBWyy5D",
        "outputId": "d3cffd9f-d6a1-4f1f-d81d-065c03c33a25",
        "colab": {
          "base_uri": "https://localhost:8080/"
        }
      },
      "execution_count": 4,
      "outputs": [
        {
          "output_type": "stream",
          "name": "stdout",
          "text": [
            "Organisme 'Kucing Persia' diciptakan.\n",
            "Hewan 'Kucing Persia' adalah Karnivora.\n",
            "Mamalia 'Kucing Persia' memiliki 4 kaki.\n",
            "--------------------\n",
            "Kucing Persia sedang menyusui.\n",
            "Kucing Persia sedang bergerak.\n",
            "Jenis makanan: Karnivora\n",
            "Kucing Persia sedang bernapas.\n",
            "Nama organisme: Kucing Persia\n"
          ]
        }
      ]
    },
    {
      "cell_type": "markdown",
      "source": [
        "###Praktikum 05: Hierarchical Inheritance"
      ],
      "metadata": {
        "id": "Sj_UKjHt6Smq"
      }
    },
    {
      "cell_type": "code",
      "source": [
        "!apt-get install -y locales\n",
        "!locale-gen id_ID.UTF-8\n",
        "!update-locale"
      ],
      "metadata": {
        "id": "9pKhWp1jBOpT",
        "outputId": "4d9941a2-d6e9-4790-ce57-1cd948d85bd4",
        "colab": {
          "base_uri": "https://localhost:8080/"
        }
      },
      "execution_count": 5,
      "outputs": [
        {
          "output_type": "stream",
          "name": "stdout",
          "text": [
            "Reading package lists... Done\n",
            "Building dependency tree... Done\n",
            "Reading state information... Done\n",
            "locales is already the newest version (2.35-0ubuntu3.9).\n",
            "0 upgraded, 0 newly installed, 0 to remove and 34 not upgraded.\n",
            "Generating locales (this might take a while)...\n",
            "  id_ID.UTF-8... done\n",
            "Generation complete.\n"
          ]
        }
      ]
    },
    {
      "cell_type": "code",
      "source": [
        "import locale\n",
        "\n",
        "#Set locale ke Indonesia untuk format mata uang\n",
        "try:\n",
        "  locale.setlocale(locale.LC_ALL, 'id_ID.UTF-8')\n",
        "except locale.Error:\n",
        "  print(\"Locale id_ID.UTF-8 tidak tersedia, menggunakan locale default.\")\n",
        "\n",
        "#Fungsi helper untuk format mata uang\n",
        "def format_rupiah(angka):\n",
        "  return locale.currency(angka, grouping=True, symbol='RP ')\n",
        "\n",
        "#Kelas Induk\n",
        "class Pegawai:\n",
        "  def __init__(self, nama, id_pegawai, gaji_pokok):\n",
        "    self.nama = nama\n",
        "    self.id_pegawai = id_pegawai\n",
        "    self.gaji_pokok = gaji_pokok\n",
        "\n",
        "  def hitung_gaji(self):\n",
        "    #Gaji dasar, bisa di-override\n",
        "    return self.gaji_pokok\n",
        "\n",
        "  def tampilkan_info(self):\n",
        "    print(f\"ID: {self.id_pegawai}, Nama: {self.nama}\")\n",
        "    print(f\" Gaji Pokok: {format_rupiah(self.gaji_pokok)}\")\n",
        "\n",
        "#Kelas Anak 1\n",
        "class Manager(Pegawai):\n",
        "  def __init__(self, nama, id_pegawai, gaji_pokok, tunjangan_jabatan):\n",
        "    super() .__init__(nama, id_pegawai, gaji_pokok)\n",
        "    self.tunjangan_jabatan = tunjangan_jabatan\n",
        "\n",
        "  #Ovveride hitung_gaji\n",
        "  def hitung_gaji(self):\n",
        "    gaji_total = super(). hitung_gaji() +self.tunjangan_jabatan\n",
        "    return gaji_total\n",
        "\n",
        "  #Override tampilkan_info (memanggil versi induk)\n",
        "  def tampilkan_info(self):\n",
        "    print(\"---Info Manager---\")\n",
        "    super() .tampilkan_info() #Panggil info dasar dari Pegawai\n",
        "    print(f\"Tunjangan Jabatan: {format_rupiah(self.tunjangan_jabatan)}\")\n",
        "    print(f\"Total Gaji: {format_rupiah(self.hitung_gaji())}\")\n",
        "\n",
        "#Kelas Anak 2\n",
        "class StafTeknis(Pegawai):\n",
        "  def __init__(self, nama, id_pegawai, gaji_pokok, keahlian, bonus_keahlian):\n",
        "    super() .__init__(nama, id_pegawai, gaji_pokok)\n",
        "    self.keahlian = keahlian\n",
        "    self.bonus_keahlian = bonus_keahlian\n",
        "\n",
        "  #Ovveride hitung_gaji\n",
        "  def hitung_gaji(self):\n",
        "    gaji_total = super(). hitung_gaji() +self.bonus_keahlian\n",
        "    return gaji_total\n",
        "\n",
        "  #Override tampilkan_info (memanggil versi induk)\n",
        "  def tampilkan_info(self):\n",
        "    print(\"---Info StafTeknis---\")\n",
        "    super() .tampilkan_info() #Panggil info dasar dari Pegawai\n",
        "    print(f\"Keahlian: {self.keahlian}\")\n",
        "    print(f\"Bonus Keahlian: {format_rupiah(self.bonus_keahlian)}\")\n",
        "    print(f\"Total Gaji: {format_rupiah(self.hitung_gaji())}\")\n",
        "\n",
        "#---Kode Utama---\n",
        "if __name__ == \"__main__\":\n",
        "  manager1 = Manager(\"Budi Santoso\", \"M001\", 10000000, 5000000)\n",
        "  staf1 = StafTeknis(\"Citra Lestari\", \"S001\", 7000000, \"Python Programming\", 1500000)\n",
        "  pegawai_baru = Pegawai(\"Rian\", \"P005\", 5000000) #Pegawai biasa\n",
        "\n",
        "  print(\"Menampilkan Informasi Pegawai:\")\n",
        "  manager1.tampilkan_info()\n",
        "  print(\"-\" * 30)\n",
        "  staf1.tampilkan_info()\n",
        "  print(\"-\" * 30)\n",
        "\n",
        "  print(\"---Info Pegawai Baru---\")\n",
        "  pegawai_baru.tampilkan_info()\n",
        "  print(f\" Total Gaji: {format_rupiah(pegawai_baru.hitung_gaji())}\") #Memanggil versi Pegawai\n",
        "  print(\"-\" * 30)\n"
      ],
      "metadata": {
        "id": "Xs7nX8Sc6ctb",
        "outputId": "7b726f72-1345-4703-87ec-975cb5d47e60",
        "colab": {
          "base_uri": "https://localhost:8080/"
        }
      },
      "execution_count": 6,
      "outputs": [
        {
          "output_type": "stream",
          "name": "stdout",
          "text": [
            "Menampilkan Informasi Pegawai:\n",
            "---Info Manager---\n",
            "ID: M001, Nama: Budi Santoso\n",
            " Gaji Pokok: Rp10.000.000,00\n",
            "Tunjangan Jabatan: Rp5.000.000,00\n",
            "Total Gaji: Rp15.000.000,00\n",
            "------------------------------\n",
            "---Info StafTeknis---\n",
            "ID: S001, Nama: Citra Lestari\n",
            " Gaji Pokok: Rp7.000.000,00\n",
            "Keahlian: Python Programming\n",
            "Bonus Keahlian: Rp1.500.000,00\n",
            "Total Gaji: Rp8.500.000,00\n",
            "------------------------------\n",
            "---Info Pegawai Baru---\n",
            "ID: P005, Nama: Rian\n",
            " Gaji Pokok: Rp5.000.000,00\n",
            " Total Gaji: Rp5.000.000,00\n",
            "------------------------------\n"
          ]
        }
      ]
    },
    {
      "cell_type": "markdown",
      "source": [
        "###Praktikum 06: Memeriksa Tipe Instance dengan instance()"
      ],
      "metadata": {
        "id": "r4IFAuiWA4mA"
      }
    },
    {
      "cell_type": "code",
      "source": [
        "from re import L\n",
        "class BentukGeometri:\n",
        "  def __init__(self, nama_bentuk):\n",
        "    self.nama_bentuk = nama_bentuk\n",
        "  def tampilkan_nama(self):\n",
        "    print(f\"Ini adalah bentuk: {self.nama_bentuk}\")\n",
        "  def hitung_luas(self):\n",
        "    print(f\"Luas {self.nama} tidak dapat dihitung (generik),\")\n",
        "\n",
        "class PersegiPanjang(BentukGeometri):\n",
        "  def __init__(self, panjang, lebar):\n",
        "    super() .__init__(\"Persegi Panjang\")\n",
        "    self.panjang = panjang\n",
        "    self.lebar =lebar\n",
        "  def hitung_luas(self):\n",
        "    luas = self.panjang * self.lebar\n",
        "    print(f\"Luas {self.nama}: {luas}\")\n",
        "\n",
        "class Segitiga(BentukGeometri):\n",
        "  def __init__(self, alas, tinggi):\n",
        "    super() .__init__(\"Segitiga\")\n",
        "    self.alas = alas\n",
        "    self.tinggi = tinggi\n",
        "  def hitung_luas(self):\n",
        "    luas = 0.5 * self.alas * self.tinggi\n",
        "    print(f\"Luas {self.nama}: {luas}\")\n",
        "\n",
        "def proses_bentuk(bentuk):\n",
        "  print(f\"\\nMemproses objek: {type(bentuk)}\")\n",
        "\n",
        "  if isinstance(bentuk, BentukGeometri):\n",
        "    bentuk.tampilkan_nama()\n",
        "    print(\"Objek ini adalah instance dari BentukGeometri (atau turunannya).\")\n",
        "\n",
        "    if isinstance(bentuk, PersegiPanjang):\n",
        "      print(\"-> Objek ini juga instance dari PersegiPanjang.\")\n",
        "    elif isinstance(bentuk, Segitiga):\n",
        "      print(\"-> Objek ini juga instance dari Segitiga.\")\n",
        "  else:\n",
        "    print(\"Objek ini BUKAN instance dari BentukGeometri.\")\n",
        "\n",
        "  if isinstance(bentuk, str):\n",
        "    print(\"Objek ini adalah instance dari tipe data string.\")\n",
        "  else:\n",
        "    print(\"Objek ini adalah string.\")\n",
        "\n",
        "#---Kode utama---\n",
        "if __name__ == \"__main__\":\n",
        "  pp = PersegiPanjang(4, 3)\n",
        "  seg = Segitiga(5, 2)\n",
        "  bg = BentukGeometri(\"Lingkaran\") #Contoh lain\n",
        "  teks = \"Ini string\"\n",
        "\n",
        "  daftar_objek = [pp, seg, bg, teks]\n",
        "\n",
        "  for obj in daftar_objek:\n",
        "    proses_bentuk(obj)\n"
      ],
      "metadata": {
        "id": "Mneu9-M0B1AT",
        "outputId": "661f8c3b-03b7-47ae-e911-302a0c010629",
        "colab": {
          "base_uri": "https://localhost:8080/"
        }
      },
      "execution_count": 8,
      "outputs": [
        {
          "output_type": "stream",
          "name": "stdout",
          "text": [
            "\n",
            "Memproses objek: <class '__main__.PersegiPanjang'>\n",
            "Ini adalah bentuk: Persegi Panjang\n",
            "Objek ini adalah instance dari BentukGeometri (atau turunannya).\n",
            "-> Objek ini juga instance dari PersegiPanjang.\n",
            "Objek ini adalah string.\n",
            "\n",
            "Memproses objek: <class '__main__.Segitiga'>\n",
            "Ini adalah bentuk: Segitiga\n",
            "Objek ini adalah instance dari BentukGeometri (atau turunannya).\n",
            "-> Objek ini juga instance dari Segitiga.\n",
            "Objek ini adalah string.\n",
            "\n",
            "Memproses objek: <class '__main__.BentukGeometri'>\n",
            "Ini adalah bentuk: Lingkaran\n",
            "Objek ini adalah instance dari BentukGeometri (atau turunannya).\n",
            "Objek ini adalah string.\n",
            "\n",
            "Memproses objek: <class 'str'>\n",
            "Objek ini BUKAN instance dari BentukGeometri.\n",
            "Objek ini adalah instance dari tipe data string.\n"
          ]
        }
      ]
    }
  ]
}