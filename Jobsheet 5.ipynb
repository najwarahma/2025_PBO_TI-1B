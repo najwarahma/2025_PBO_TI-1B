{
  "nbformat": 4,
  "nbformat_minor": 0,
  "metadata": {
    "colab": {
      "provenance": [],
      "authorship_tag": "ABX9TyN0f7+IufZLKhnBOw4jTEVu",
      "include_colab_link": true
    },
    "kernelspec": {
      "name": "python3",
      "display_name": "Python 3"
    },
    "language_info": {
      "name": "python"
    }
  },
  "cells": [
    {
      "cell_type": "markdown",
      "metadata": {
        "id": "view-in-github",
        "colab_type": "text"
      },
      "source": [
        "<a href=\"https://colab.research.google.com/github/najwarahma/2025_PBO_TI-1B/blob/main/Jobsheet%205.ipynb\" target=\"_parent\"><img src=\"https://colab.research.google.com/assets/colab-badge.svg\" alt=\"Open In Colab\"/></a>"
      ]
    },
    {
      "cell_type": "markdown",
      "source": [
        "##JOBSHEET 05: POLIMORFISME DAN MEMAHAMI OVERLOADING/OVERRIDING"
      ],
      "metadata": {
        "id": "Am-Q6Areiv6q"
      }
    },
    {
      "cell_type": "markdown",
      "source": [
        "Praktikum 01: Polimorfisme dengan Inheritance dan Overriding"
      ],
      "metadata": {
        "id": "gcCWSQKni4IR"
      }
    },
    {
      "cell_type": "code",
      "execution_count": 7,
      "metadata": {
        "colab": {
          "base_uri": "https://localhost:8080/"
        },
        "id": "1DLyVdosiPNe",
        "outputId": "67838cf9-abdb-48a2-b57e-87df825038a1"
      },
      "outputs": [
        {
          "output_type": "stream",
          "name": "stdout",
          "text": [
            "\n",
            "Aksi Burung:\n",
            "--Aksi untuk Elang Jawa--\n",
            "Elang Jawa terbang tinggi melayang di angkasa.\n",
            "Elang Jawa berteriak nyaring!\n",
            "---------------\n",
            "--Aksi untuk Pipit Gereja--\n",
            "Pipit Gereja terbang cepat di antara pepohonan.\n",
            "Pipit Gereja berkicau merdu: cit cit!\n",
            "---------------\n",
            "--Aksi untuk Burung Misterius--\n",
            "Burung Misterius terbang dengan cara umum.\n",
            "Burung Misterius mengeluarkan suara burung.\n",
            "---------------\n"
          ]
        }
      ],
      "source": [
        "# kelas induk\n",
        "class Burung:\n",
        "    def __init__(self, nama):\n",
        "        self.nama = nama\n",
        "\n",
        "    def terbang(self):\n",
        "        print(f\"{self.nama} terbang dengan cara umum.\")\n",
        "\n",
        "    def bersuara(self):\n",
        "        print(f\"{self.nama} mengeluarkan suara burung.\")\n",
        "\n",
        "# kelas anak 1\n",
        "class Elang(Burung):\n",
        "    def __init__(self, nama, rentang_sayap):\n",
        "        super().__init__(nama)\n",
        "        self.rentang_sayap = rentang_sayap\n",
        "\n",
        "    # override\n",
        "    def terbang(self):\n",
        "        print(f\"{self.nama} terbang tinggi melayang di angkasa.\")\n",
        "\n",
        "    # override\n",
        "    def bersuara(self):\n",
        "        print(f\"{self.nama} berteriak nyaring!\")\n",
        "\n",
        "# kelas anak 2\n",
        "class Pipit(Burung):\n",
        "    def __init__(self, nama, warna_bulu):\n",
        "        super().__init__(nama)\n",
        "        self.warna_bulu = warna_bulu\n",
        "\n",
        "    # override\n",
        "    def terbang(self):\n",
        "        print(f\"{self.nama} terbang cepat di antara pepohonan.\")\n",
        "\n",
        "    # override\n",
        "    def bersuara(self):\n",
        "        print(f\"{self.nama} berkicau merdu: cit cit!\")\n",
        "\n",
        "# fungsi yang memanfaatkan polimorfisme\n",
        "def demonstrasi_aksi_burung(daftar_burung):\n",
        "    print(\"\\nAksi Burung:\")\n",
        "    for burung in daftar_burung:\n",
        "        print(f\"--Aksi untuk {burung.nama}--\")\n",
        "        burung.terbang()\n",
        "        burung.bersuara()\n",
        "        print(\"-\" * 15)\n",
        "\n",
        "# ---kode utama---\n",
        "if __name__ == \"__main__\":\n",
        "    elang_jawa = Elang(\"Elang Jawa\", 1.5)\n",
        "    pipit_gereja = Pipit(\"Pipit Gereja\", \"coklat\")\n",
        "    burung_aneh = Burung(\"Burung Misterius\")  # objek dari kelas induk\n",
        "\n",
        "    koleksi_burung = [elang_jawa, pipit_gereja, burung_aneh]\n",
        "\n",
        "    demonstrasi_aksi_burung(koleksi_burung)\n"
      ]
    },
    {
      "cell_type": "markdown",
      "source": [
        "Praktikum 02: Polimorfisme dengan Duck Typing"
      ],
      "metadata": {
        "id": "gm6xyev7pKd7"
      }
    },
    {
      "cell_type": "code",
      "source": [
        "class Kucing:\n",
        "  def bersuara(self):\n",
        "    print(\"Kucing: Meow!\")\n",
        "\n",
        "class Anjing:\n",
        "  def bersuara(self):\n",
        "    print(\"Anjing: Guk guk!\")\n",
        "\n",
        "class Bebek:\n",
        "  def bersuara(self):\n",
        "    print(\"Bebek: Kwek kwek!\")\n",
        "\n",
        "class Mobil: #Kelas ini TIDAK punya metode bersuara()\n",
        "  def jalankan(self):\n",
        "    print(\"Mobil: Brummmm!\")\n",
        "\n",
        "def buat_suara(objek_yang_bisa_bersuara):\n",
        "  try:\n",
        "    objek_yang_bisa_bersuara.bersuara()\n",
        "  except AttributeError:\n",
        "    print(f\"Objek {type(objek_yang_bisa_bersuara).__name__} bisa bersuara.\")\n",
        "\n",
        "# --- kode utama ----\n",
        "if __name__ == \"__main__\":\n",
        "  kucing1 = Kucing()\n",
        "  anjing1 = Anjing()\n",
        "  bebek1 = Bebek()\n",
        "  mobil1 = Mobil()\n",
        "\n",
        "  daftar_objek = [kucing1, anjing1, bebek1, mobil1]\n",
        "\n",
        "  print(\"Demonstrasi Duck Typing:\")\n",
        "  for item in daftar_objek:\n",
        "    buat_suara(item) # fungsi polimorfik via duck typing\n",
        "\n",
        "\n"
      ],
      "metadata": {
        "colab": {
          "base_uri": "https://localhost:8080/"
        },
        "id": "Ty1iv-dqitpq",
        "outputId": "8ecc15d9-d4e4-4cf4-ed4c-3b25b828831e"
      },
      "execution_count": 8,
      "outputs": [
        {
          "output_type": "stream",
          "name": "stdout",
          "text": [
            "Demonstrasi Duck Typing:\n",
            "Kucing: Meow!\n",
            "Anjing: Guk guk!\n",
            "Bebek: Kwek kwek!\n",
            "Objek Mobil bisa bersuara.\n"
          ]
        }
      ]
    },
    {
      "cell_type": "markdown",
      "source": [
        "Praktikum 03: Simulasi Overloading dalam Metode Kelas dengan *args"
      ],
      "metadata": {
        "id": "yX164DRgrTsm"
      }
    },
    {
      "cell_type": "code",
      "source": [
        "class KalkulatorSederhana:\n",
        "  def __init__(self, nama=\"Kalkulator\"):\n",
        "    self.nama = nama\n",
        "    print(f\"{self.nama} siap digunakan.\")\n",
        "\n",
        "  def tambah(self, *args):\n",
        "    \"\"\"\n",
        "    Metode ini menjumlahkan semua argumen angka yang diberikan.\n",
        "    Menerima sejumlah argumen posisi menggunakan *args.\n",
        "    \"\"\"\n",
        "    print(f\"\\nMemanggil metode tambah dengan argumen: {args}\")\n",
        "    if not args:\n",
        "      print(\"Tidak ada angka untuk dijumlahkan.\")\n",
        "      return 0\n",
        "\n",
        "    total = 0\n",
        "    valid_input = True\n",
        "    for angka in args:\n",
        "\n",
        "      if isinstance(angka, (int, float)):\n",
        "        total += angka\n",
        "    else:\n",
        "        print(f\"Peringatan: Argumen '{angka}' bukan angka dan akan diabaikan.\")\n",
        "        valid_input = False\n",
        "    if valid_input:\n",
        "      print(f\"Hasil penjumlahan: {total}\")\n",
        "    else:\n",
        "      print(f\"Hasil penjumlahan (dengan beberapa input diabaikan) : {total}\")\n",
        "    return total\n",
        "\n",
        "# --- kode utama ---\n",
        "if __name__ == \"__main__\":\n",
        "  calc = KalkulatorSederhana(\"Calc-01\")\n",
        "\n",
        "  print(\"\\n--- Percobaan Penjumlahan---\")\n",
        "  calc.tambah(5, 10)\n",
        "  calc.tambah(2, 3, 5, 10)\n",
        "  calc.tambah(100)\n",
        "  calc.tambah()\n",
        "  calc.tambah(1, 2, \"tiga\", 4, 5.5)"
      ],
      "metadata": {
        "colab": {
          "base_uri": "https://localhost:8080/"
        },
        "id": "DzFg7wKjrZZt",
        "outputId": "0ae32204-47a7-414a-eb0c-8a8fe8b0e21c"
      },
      "execution_count": 14,
      "outputs": [
        {
          "output_type": "stream",
          "name": "stdout",
          "text": [
            "Calc-01 siap digunakan.\n",
            "\n",
            "--- Percobaan Penjumlahan---\n",
            "\n",
            "Memanggil metode tambah dengan argumen: (5, 10)\n",
            "Peringatan: Argumen '10' bukan angka dan akan diabaikan.\n",
            "Hasil penjumlahan (dengan beberapa input diabaikan) : 15\n",
            "\n",
            "Memanggil metode tambah dengan argumen: (2, 3, 5, 10)\n",
            "Peringatan: Argumen '10' bukan angka dan akan diabaikan.\n",
            "Hasil penjumlahan (dengan beberapa input diabaikan) : 20\n",
            "\n",
            "Memanggil metode tambah dengan argumen: (100,)\n",
            "Peringatan: Argumen '100' bukan angka dan akan diabaikan.\n",
            "Hasil penjumlahan (dengan beberapa input diabaikan) : 100\n",
            "\n",
            "Memanggil metode tambah dengan argumen: ()\n",
            "Tidak ada angka untuk dijumlahkan.\n",
            "\n",
            "Memanggil metode tambah dengan argumen: (1, 2, 'tiga', 4, 5.5)\n",
            "Peringatan: Argumen '5.5' bukan angka dan akan diabaikan.\n",
            "Hasil penjumlahan (dengan beberapa input diabaikan) : 12.5\n"
          ]
        }
      ]
    },
    {
      "cell_type": "markdown",
      "source": [
        "Praktikum 04: Simulasi Overloading dalam Metode Kelas dengan *args dan **kwargs"
      ],
      "metadata": {
        "id": "R4bkzKNku-26"
      }
    },
    {
      "cell_type": "code",
      "source": [
        "from concurrent.futures import process\n",
        "class DataProcessor:\n",
        "  def __init__(self, processor_id):\n",
        "    self.processor_id = processor_id\n",
        "    print(f\"Data Processor {self.processor_id} siap.\")\n",
        "\n",
        "  def process(self, *args, **kwargs):\n",
        "    \"\"\"\n",
        "    Metode ini memproses data dengan argumen posisi (*args)\n",
        "    dan data kata kunci (**kwargs) yang jumlahnya variabel.\n",
        "    \"\"\"\n",
        "    print(f\"\\n--- {self.processor_id} Memproses Data ---\")\n",
        "\n",
        "    if args:\n",
        "      print (\"Argumen Posisi Diterima:\")\n",
        "      for i, arg in enumerate(args):\n",
        "        print(f\"  args[{i}]: {arg} (tipe: {type(arg).__name__})\")\n",
        "    else:\n",
        "      print(\"Tidak ada argumen posisi.\")\n",
        "\n",
        "    if kwargs:\n",
        "      print(\"Argumen Kata Kunci Diterima:\")\n",
        "      for kunci, nilai in kwargs.items():\n",
        "        print(f\"  {kunci}: {nilai} (tipe: {type(nilai).__name__})\")\n",
        "    else:\n",
        "      print(\"Tidak ada argumen kata kunci.\")\n",
        "      print(\"-----------------------------\")\n",
        "\n",
        "\n",
        "# ---kode utama---\n",
        "if __name__ == \"__main__\":\n",
        "  processor1 = DataProcessor(\"DP-001\")\n",
        "\n",
        "  print(\"\\nPanggilan 1: Tanpa argumen tambahan\")\n",
        "  processor1.process()\n",
        "\n",
        "  print(\"\\nPanggilan 2: Hanya argumen posisi\")\n",
        "  processor1.process(100, \"Statis OK\", 99.9, False)\n",
        "\n",
        "  print(\"\\nPanggilan 3: Hanya argumen kata kunci\")\n",
        "  processor1.process(user=\"admin\", level=5, mode=\"verbose\")\n",
        "\n",
        "  print(\"\\nPanggilan 4: Kombinasi argumen posisi dan kata kunci\")\n",
        "  processor1.process(\"Task-A\", \"Task-B\", status=\"Running\", priorty=\"High\", thread_id=54321)\n",
        "\n",
        "  print(\"\\nPanggilan 5: Argumen posisi kompleks\")\n",
        "  list_ids = [\"A1\", \"B2\", \"C3\"]\n",
        "  dict_params = {\"timeout\": 30, \"retry\": 3}\n",
        "  processor1.process(list_ids, dict_params, owner=\"system\", enabled=True)\n",
        "\n",
        "\n",
        ""
      ],
      "metadata": {
        "colab": {
          "base_uri": "https://localhost:8080/"
        },
        "id": "xl3nqk8ou-iQ",
        "outputId": "e34a99fe-093b-4af6-b089-29c04e355502"
      },
      "execution_count": 17,
      "outputs": [
        {
          "output_type": "stream",
          "name": "stdout",
          "text": [
            "Data Processor DP-001 siap.\n",
            "\n",
            "Panggilan 1: Tanpa argumen tambahan\n",
            "\n",
            "--- DP-001 Memproses Data ---\n",
            "Tidak ada argumen posisi.\n",
            "Tidak ada argumen kata kunci.\n",
            "-----------------------------\n",
            "\n",
            "Panggilan 2: Hanya argumen posisi\n",
            "\n",
            "--- DP-001 Memproses Data ---\n",
            "Argumen Posisi Diterima:\n",
            "  args[0]: 100 (tipe: int)\n",
            "  args[1]: Statis OK (tipe: str)\n",
            "  args[2]: 99.9 (tipe: float)\n",
            "  args[3]: False (tipe: bool)\n",
            "Tidak ada argumen kata kunci.\n",
            "-----------------------------\n",
            "\n",
            "Panggilan 3: Hanya argumen kata kunci\n",
            "\n",
            "--- DP-001 Memproses Data ---\n",
            "Tidak ada argumen posisi.\n",
            "Argumen Kata Kunci Diterima:\n",
            "  user: admin (tipe: str)\n",
            "  level: 5 (tipe: int)\n",
            "  mode: verbose (tipe: str)\n",
            "\n",
            "Panggilan 4: Kombinasi argumen posisi dan kata kunci\n",
            "\n",
            "--- DP-001 Memproses Data ---\n",
            "Argumen Posisi Diterima:\n",
            "  args[0]: Task-A (tipe: str)\n",
            "  args[1]: Task-B (tipe: str)\n",
            "Argumen Kata Kunci Diterima:\n",
            "  status: Running (tipe: str)\n",
            "  priorty: High (tipe: str)\n",
            "  thread_id: 54321 (tipe: int)\n",
            "\n",
            "Panggilan 5: Argumen posisi kompleks\n",
            "\n",
            "--- DP-001 Memproses Data ---\n",
            "Argumen Posisi Diterima:\n",
            "  args[0]: ['A1', 'B2', 'C3'] (tipe: list)\n",
            "  args[1]: {'timeout': 30, 'retry': 3} (tipe: dict)\n",
            "Argumen Kata Kunci Diterima:\n",
            "  owner: system (tipe: str)\n",
            "  enabled: True (tipe: bool)\n"
          ]
        }
      ]
    },
    {
      "cell_type": "markdown",
      "source": [
        "Praktikum 05: Kombinasi Polimorfisme (Inheritance & Duck Typing)"
      ],
      "metadata": {
        "id": "GAeJujWf0M6F"
      }
    },
    {
      "cell_type": "code",
      "source": [
        "import math\n",
        "\n",
        "class Bentuk:\n",
        "  def nama_bentuk(self):\n",
        "    return \"Bentuk Generik\"\n",
        "\n",
        "  def hitung_luas(self):\n",
        "    raise NotImplementedError(\"Subclass harus mengimplementasikan metode ini\")\n",
        "\n",
        "class Lingkaran(Bentuk):\n",
        "  def __init__(self, radius):\n",
        "    self.radius = radius\n",
        "\n",
        "  def nama_bentuk(self):\n",
        "    return \"Lingkaran\"\n",
        "\n",
        "  def hitung_luas(self):\n",
        "    return math.pi * (self.radius ** 2)\n",
        "\n",
        "class Persegi(Bentuk):\n",
        "  def __init__(self, sisi):\n",
        "    self.sisi = sisi\n",
        "\n",
        "  def nama_bentuk(self):\n",
        "    return \"Persegi\"\n",
        "\n",
        "  def hitung_luas(self):\n",
        "    return self.sisi * self.sisi\n",
        "\n",
        "# --- Definisi kelas lain (Tidak terkait inheritance dengan Bentuk) ---\n",
        "class TaplakMeja:\n",
        "  def __init__(self, panjang, lebar):\n",
        "    self.panjang = panjang\n",
        "    self.lebar = lebar\n",
        "\n",
        "  def hitung_luas(self):\n",
        "    return self.panjang * self.lebar\n",
        "\n",
        "  def deskripsi(self):\n",
        "    return f\"Taplak Meja {self.panjang}x{self.lebar}\"\n",
        "\n",
        "# --- fungsi polimorfik ---\n",
        "def tampilkan_info_luas(objek_dengan_luas):\n",
        "  print(\"-\" * 20)\n",
        "  try:\n",
        "    luas = objek_dengan_luas.hitung_luas()\n",
        "\n",
        "    try:\n",
        "      nama = objek_dengan_luas.nama_bentuk()\n",
        "    except AttributeError:\n",
        "      nama = type(objek_dengan_luas).__name__\n",
        "\n",
        "    print(f\"Objek: {nama}\")\n",
        "    print(f\"Luas : {luas:.2f}\")\n",
        "\n",
        "  except AttributeError:\n",
        "    print(f\"Objek {type(objek_dengan_luas).__name__} tidak memiliki metode 'hitung_luas'\")\n",
        "  except NotImplementedError:\n",
        "    print(f\"Metode 'hitung_luas' belum diimplementasikan untuk {type(objek_dengan_luas).__name__}\")\n",
        "\n",
        "# --- kode utama ---\n",
        "if __name__ == \"__main__\":\n",
        "  lingkaran1 = Lingkaran(7)\n",
        "  persegi1 = Persegi(5)\n",
        "  taplak_meja1 = TaplakMeja(1.5, 0.8)\n",
        "  bentuk_dasar = Bentuk()\n",
        "  string_biasa = \"Ini string\"\n",
        "\n",
        "  daftar_item = [lingkaran1, persegi1, taplak_meja1, bentuk_dasar, string_biasa]\n",
        "\n",
        "  print(\"Menampilkan Info Luas (Polimorfisme Campuran):\")\n",
        "  for item in daftar_item:\n",
        "    tampilkan_info_luas(item)\n"
      ],
      "metadata": {
        "colab": {
          "base_uri": "https://localhost:8080/"
        },
        "id": "jOr8bHWH0TJc",
        "outputId": "769b9a3d-f828-426a-ffa0-c0b0212c9b7d"
      },
      "execution_count": 27,
      "outputs": [
        {
          "output_type": "stream",
          "name": "stdout",
          "text": [
            "Menampilkan Info Luas (Polimorfisme Campuran):\n",
            "--------------------\n",
            "Objek: Lingkaran\n",
            "Luas : 153.94\n",
            "--------------------\n",
            "Objek: Persegi\n",
            "Luas : 25.00\n",
            "--------------------\n",
            "Objek: TaplakMeja\n",
            "Luas : 1.20\n",
            "--------------------\n",
            "Metode 'hitung_luas' belum diimplementasikan untuk Bentuk\n",
            "--------------------\n",
            "Objek str tidak memiliki metode 'hitung_luas'\n"
          ]
        }
      ]
    },
    {
      "cell_type": "markdown",
      "source": [
        "Praktikum 06: Kontrol Perilaku Polimorfik dengan isinstance()"
      ],
      "metadata": {
        "id": "kY7GxVsJ7s6s"
      }
    },
    {
      "cell_type": "code",
      "source": [
        "# Definisi Kelas Burung, Elang, Pipit ---\n",
        "class Burung:\n",
        "  def __init__(self, nama):\n",
        "    self.nama = nama\n",
        "\n",
        "  def terbang(self):\n",
        "    print(f\"{self.nama} terbang dengan cara umum.\")\n",
        "\n",
        "  def bersuara(self):\n",
        "    print(f\"{self.nama} mengeluarkan suara burung.\")\n",
        "\n",
        "class Elang(Burung):\n",
        "  def __init__(self, nama, rentang_sayap):\n",
        "    super().__init__(nama)\n",
        "    self.rentang_sayap = rentang_sayap\n",
        "\n",
        "  def terbang(self):\n",
        "      print(f\"{self.nama} terbang tinggi melayang di angkasa.\")\n",
        "  def bersuara(self):\n",
        "      print(f\"{self.nama} berteriak nyaring!\")\n",
        "\n",
        "  def berburu(self):\n",
        "      print(f\"{self.nama} sedang mencari mangsa dari ketinggian.\")\n",
        "\n",
        "class Pipit(Burung):\n",
        "  def __init__(self, nama, warna_bulu):\n",
        "    super().__init__(nama)\n",
        "    self.warna_bulu = warna_bulu\n",
        "\n",
        "  def terbang(self):\n",
        "      print(f\"{self.nama} terbang cepat di antara pepohonan.\")\n",
        "\n",
        "  def bersuara(self):\n",
        "      print(f\"{self.nama} berkicau merdu: cit cit!\")\n",
        "\n",
        "  def membangun_sarang(self):\n",
        "      print(f\"{self.nama} sedang mengumpulkan ranting untuk sarang.\")\n",
        "\n",
        "# --- fungsi yang memanfaatkan polumorfisme DAN isinstance() ---\n",
        "def interaksi_dengan_burung(burung):\n",
        "  print(f\"\\n---Berinteraksi dengan {type(burung).__name__}: {getattr(burung, 'nama', 'Objek tidak dikenal')} ---\")\n",
        "\n",
        "  if isinstance(burung, Burung):\n",
        "      burung.terbang()\n",
        "      burung.bersuara()\n",
        "\n",
        "      if isinstance(burung, Elang):\n",
        "          print(\"-> Ini adalah Elang!\")\n",
        "          burung.berburu()\n",
        "      elif isinstance(burung, Pipit):\n",
        "          print(\"-> Ini adalah Pipit!\")\n",
        "          burung.membangun_sarang()\n",
        "      else:\n",
        "          print(\"-> Ini adalah burung jenis umum (bukan Elang/Pipit).\")\n",
        "  else:\n",
        "          print(\"-> Objek ini bukan termasuk jenis Burung.\")\n",
        "          print(\"-\" * 25)\n",
        "\n",
        "# --- Kode Utama ---\n",
        "if __name__ == \"__main__\":\n",
        "    elang_sumatra = Elang(\"Elang Sumatra\", 1.8)\n",
        "    pipit_rumah = Pipit(\"Pipit Rumah\", \"Abu-abu\")\n",
        "    merak = Burung(\"Merak\")\n",
        "    kucing_tetangga = \"Meong\"\n",
        "\n",
        "    koleksi_makhluk = [elang_sumatra, pipit_rumah, merak, kucing_tetangga]\n",
        "\n",
        "    for makhluk in koleksi_makhluk:\n",
        "      interaksi_dengan_burung(makhluk)\n"
      ],
      "metadata": {
        "colab": {
          "base_uri": "https://localhost:8080/"
        },
        "id": "MaO5HsuH57DR",
        "outputId": "4a3df8c3-68ac-4ecb-d6eb-d4514d6ec314"
      },
      "execution_count": 36,
      "outputs": [
        {
          "output_type": "stream",
          "name": "stdout",
          "text": [
            "\n",
            "---Berinteraksi dengan Elang: Elang Sumatra ---\n",
            "Elang Sumatra terbang tinggi melayang di angkasa.\n",
            "Elang Sumatra berteriak nyaring!\n",
            "-> Ini adalah Elang!\n",
            "Elang Sumatra sedang mencari mangsa dari ketinggian.\n",
            "\n",
            "---Berinteraksi dengan Pipit: Pipit Rumah ---\n",
            "Pipit Rumah terbang cepat di antara pepohonan.\n",
            "Pipit Rumah berkicau merdu: cit cit!\n",
            "-> Ini adalah Pipit!\n",
            "Pipit Rumah sedang mengumpulkan ranting untuk sarang.\n",
            "\n",
            "---Berinteraksi dengan Burung: Merak ---\n",
            "Merak terbang dengan cara umum.\n",
            "Merak mengeluarkan suara burung.\n",
            "-> Ini adalah burung jenis umum (bukan Elang/Pipit).\n",
            "\n",
            "---Berinteraksi dengan str: Objek tidak dikenal ---\n",
            "-> Objek ini bukan termasuk jenis Burung.\n",
            "-------------------------\n"
          ]
        }
      ]
    },
    {
      "cell_type": "code",
      "source": [
        "-"
      ],
      "metadata": {
        "id": "hn2pjWkMCquC"
      },
      "execution_count": null,
      "outputs": []
    }
  ]
}